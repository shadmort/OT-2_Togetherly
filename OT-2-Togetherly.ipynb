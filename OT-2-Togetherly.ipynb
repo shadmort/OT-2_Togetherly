{
 "cells": [
  {
   "cell_type": "code",
   "execution_count": 4,
   "id": "99e3b1c0",
   "metadata": {},
   "outputs": [],
   "source": [
    "from opentrons import protocol_api\n",
    "import pandas as pd\n",
    "\n",
    "metadata = {\n",
    "    'apiLevel': '2.13',\n",
    "    'protocolName': 'Automated SEC',\n",
    "    'description': '''Automation of liquid handling for high-throughput (24 well-plates) SEC of EVS''',\n",
    "    'author': 'SRM'\n",
    "    }\n",
    "\n",
    "def run(protocol):\n",
    "    # load labware/p1000\n",
    "    tips = protocol.load_labware('opentrons_96_tiprack_1000ul', 1) \n",
    "    reservoir = protocol.load_labware('nest_1_reservoir_195ml', 2) \n",
    "    tube_rack = protocol.load_labware('opentrons_24_aluminumblock_nest_2mL_snapcap', 3)\n",
    "    plate = protocol.load_labware('cytiva_24_wellplate_10000ul', 4) \n",
    "    p1000 = protocol.load_instrument('p1000_single_gen2', 'right', tip_racks=[tips]) \n",
    "    \n",
    "    ### Procedure ###\n",
    "    # load sample onto column\n",
    "    wells = ['A1', 'A2', 'A3', 'A4', 'A5', 'A6',\n",
    "             'B1', 'B2', 'B3', 'B4', 'B5', 'B6',\n",
    "             'C1', 'C2', 'C3', 'C4', 'C5', 'C6',\n",
    "             'D1', 'D2', 'D3', 'D4', 'D5', 'D6']\n",
    "    \n",
    "    # Togetherly (fractions 6 and 7)\n",
    "    def togetherly(wells):\n",
    "        n = 0\n",
    "        while n < 2:\n",
    "            for i in range(len(wells)):\n",
    "                p1000.aspirate(1000, reservoir['A1'])\n",
    "                p1000.dispense(1000, plate[wells[i]])\n",
    "            n += 1    \n",
    "        p1000.drop_tip()\n",
    "        pass\n",
    "    \n",
    "    p1000.pick_up_tip()\n",
    "    togetherly(wells)\n"
   ]
  }
 ],
 "metadata": {
  "kernelspec": {
   "display_name": "Python 3 (ipykernel)",
   "language": "python",
   "name": "python3"
  },
  "language_info": {
   "codemirror_mode": {
    "name": "ipython",
    "version": 3
   },
   "file_extension": ".py",
   "mimetype": "text/x-python",
   "name": "python",
   "nbconvert_exporter": "python",
   "pygments_lexer": "ipython3",
   "version": "3.9.13"
  }
 },
 "nbformat": 4,
 "nbformat_minor": 5
}
